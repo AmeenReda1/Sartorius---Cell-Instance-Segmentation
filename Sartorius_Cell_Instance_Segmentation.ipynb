{
  "nbformat": 4,
  "nbformat_minor": 0,
  "metadata": {
    "colab": {
      "name": "Sartorius - Cell Instance Segmentation.ipynb",
      "provenance": [],
      "collapsed_sections": [],
      "mount_file_id": "1PxOe143e5xRQmGiBKBYXQar61A-03KI4",
      "authorship_tag": "ABX9TyOXvK+19d/llKP/0l+tNPCW",
      "include_colab_link": true
    },
    "kernelspec": {
      "name": "python3",
      "display_name": "Python 3"
    },
    "language_info": {
      "name": "python"
    }
  },
  "cells": [
    {
      "cell_type": "markdown",
      "metadata": {
        "id": "view-in-github",
        "colab_type": "text"
      },
      "source": [
        "<a href=\"https://colab.research.google.com/github/AmeenReda1/Sartorius---Cell-Instance-Segmentation/blob/main/Sartorius_Cell_Instance_Segmentation.ipynb\" target=\"_parent\"><img src=\"https://colab.research.google.com/assets/colab-badge.svg\" alt=\"Open In Colab\"/></a>"
      ]
    },
    {
      "cell_type": "code",
      "metadata": {
        "id": "L5EQXrgc4M1i"
      },
      "source": [
        "#!pip install wget\n",
        "#import wget\n",
        "#wget.download(\"https://storage.googleapis.com/kaggle-competitions-data/kaggle-v2/30201/2750748/bundle/archive.zip?GoogleAccessId=web-data@kaggle-161607.iam.gserviceaccount.com&Expires=1637092858&Signature=OBFT0xI5O0UbP3FgPcPXBSmSdISb0VrnzUiCaGZz81ryUoh%2FcRIIkWHbOiaF3xLyhE%2Bp5o5TWDaKiM66tmfMqzFFLqxFrsgP0yC5YrWI8NsHRLzlAiAT%2FYfHFIsDqAhS6Tq83Hl7hezuFxKNBmy4ilgpHRdt1ZDsXExaztBFp%2BC9uI%2FcL0esfyfUnOiV6gpxmsH0XrZ%2B8%2B6BZtK3W2rraYiv4whMC1GHaSLq64om90ttDfjfQ%2F2Xx1XtIuEBmJQSQUKLRLpIQ3TOWS115y9WC1jGojfKkYUzMI6UAj1jAF%2BdtCGEGnqr8zibbq%2FJybGkPrxtHClBtMudn198yB%2FeUQ%3D%3D&response-content-disposition=attachment%3B+filename%3Dsartorius-cell-instance-segmentation.zip\")\n",
        "#!unzip \"/content/drive/MyDrive/sartorius-cell-instance-segmentation.zip\" -d \"/content/drive/MyDrive/sartorius-cell-instance-segmentation\""
      ],
      "execution_count": 1,
      "outputs": []
    },
    {
      "cell_type": "code",
      "source": [
        "import matplotlib.pyplot as plt\n",
        "import numpy as np\n",
        "import PIL\n",
        "import tensorflow as tf\n",
        "from tensorflow.keras.layers import Dense\n",
        "from tensorflow.keras.layers import Flatten\n",
        "from tensorflow.keras import layers\n",
        "from tensorflow.keras.models import Sequential\n",
        "from tensorflow.keras.optimizers import Adam\n",
        "import numpy as np\n",
        "from matplotlib import pyplot as plt\n",
        "import pandas as pd\n",
        "import tqdm\n",
        "import cv2\n",
        "import seaborn as sns\n",
        "import glob\n",
        "from sklearn.metrics import classification_report"
      ],
      "metadata": {
        "id": "NBqD0LnZRAqP"
      },
      "execution_count": 2,
      "outputs": []
    },
    {
      "cell_type": "code",
      "metadata": {
        "id": "RpkBv1NG57R1"
      },
      "source": [
        "import pandas as pd\n",
        "data=pd.read_csv('/content/drive/MyDrive/sartorius-cell-instance-segmentation/train.csv')\n",
        "datacopy=data.copy()\n",
        "print(len(data))\n",
        "data.head()"
      ],
      "execution_count": null,
      "outputs": []
    },
    {
      "cell_type": "code",
      "metadata": {
        "id": "wkNXYSAw7POr"
      },
      "source": [
        "all_lables=[\"annotation\",\"width\",\"height\",\"plate_time\",\"sample_date\",\"sample_id\",\"elapsed_timedelta\"]\n",
        "datacopy=datacopy.drop(all_lables,axis=1)\n",
        "datacopy.head()"
      ],
      "execution_count": null,
      "outputs": []
    },
    {
      "cell_type": "code",
      "metadata": {
        "id": "9rvEoz9u-TWo"
      },
      "source": [
        "datacopy.drop_duplicates(subset=\"id\",keep=\"first\",inplace=True)\n",
        "print(len(datacopy))\n",
        "datacopy.to_csv(\"/content/drive/MyDrive/sartorius-cell-instance-segmentation.csv\",index=False)\n",
        "datacopy.head()"
      ],
      "execution_count": null,
      "outputs": []
    },
    {
      "cell_type": "code",
      "metadata": {
        "id": "IA9gVIKG2hNw"
      },
      "source": [
        "# from sklearn.model_selection import StratifiedShuffleSplit\n",
        "# StratifiedShuffleSplit(n_splits=1, test_size=0.2, random_state=0)"
      ],
      "execution_count": null,
      "outputs": []
    },
    {
      "cell_type": "code",
      "metadata": {
        "id": "XZqegxMcc3NI"
      },
      "source": [
        "data.info()"
      ],
      "execution_count": null,
      "outputs": []
    },
    {
      "cell_type": "code",
      "metadata": {
        "id": "SllzBKfWTrjX"
      },
      "source": [
        "# dropping ALL duplicate values\n",
        "print(len(data))\n",
        "theData=data.copy()\n",
        "theData.drop_duplicates(subset =\"id\",\n",
        "                     keep = \"first\", inplace = True)\n",
        "print(len(theData))\n",
        "print(len(data))\n",
        "all_lables=[\"annotation\",\"width\",\"height\",\"plate_time\",\"sample_date\",\"sample_id\",\"elapsed_timedelta\"]\n",
        "theData=theData.drop(all_lables,axis=1)\n",
        "print(theData.head())\n"
      ],
      "execution_count": null,
      "outputs": []
    },
    {
      "cell_type": "code",
      "metadata": {
        "id": "dteTdLRcYDFI"
      },
      "source": [
        "sns.countplot(x= \"cell_type\", data= theData)\n",
        "plt.title(\"Cell type counting\")\n",
        "plt.show()\n",
        "print(theData[\"cell_type\"].value_counts())"
      ],
      "execution_count": null,
      "outputs": []
    },
    {
      "cell_type": "code",
      "metadata": {
        "id": "JlECfeZBIYB2"
      },
      "source": [
        "file_names = data['id'].unique()\n",
        "print(len(file_names))"
      ],
      "execution_count": null,
      "outputs": []
    },
    {
      "cell_type": "markdown",
      "metadata": {
        "id": "ICZiViof74Ju"
      },
      "source": [
        "# Rle_decode method colord annotation with white"
      ]
    },
    {
      "cell_type": "code",
      "metadata": {
        "id": "W9YY7iJmxg3N"
      },
      "source": [
        "def rle_decode(mask_rle, shape, color=1):\n",
        "    '''\n",
        "    mask_rle: run-length as string formated (start length)\n",
        "    shape: (height,width) of array to return \n",
        "    Returns numpy array, 1 - mask, 0 - background\n",
        "    '''\n",
        "    s = mask_rle.split()\n",
        "    starts, lengths =s[0:][::2], s[1:][::2]\n",
        "    starts=np.array(starts,dtype=int)\n",
        "    lengths=np.array(lengths,dtype=int)\n",
        "    starts -= 1\n",
        "    ends = starts + lengths\n",
        "    img = np.zeros(shape[0] * shape[1], dtype=np.float32)\n",
        "    print(img)\n",
        "    for lo, hi in zip(starts, ends):\n",
        "        img[lo : hi] = color\n",
        "    return img.reshape(shape)\n",
        "   "
      ],
      "execution_count": null,
      "outputs": []
    },
    {
      "cell_type": "code",
      "metadata": {
        "id": "1aYkNZXi_LRU"
      },
      "source": [
        "# tqdm is a library to make a progress bar\n",
        "sum = 0\n",
        "for file in tqdm.tqdm(file_names):\n",
        "    main_image = np.zeros(520*704, dtype=np.float32)\n",
        "    main_image = main_image.reshape((520,704))\n",
        "    get_all_codes = data[data['id'] == file]\n",
        "    get_all_codes = get_all_codes.reset_index()\n",
        "    location = '/content/drive/MyDrive/sartorius-cell-instance-segmentation/after_mask/'\n",
        "    for d in range(len(get_all_codes)):\n",
        "        try:\n",
        "            shape=(get_all_codes.loc[d]['height'],get_all_codes.loc[d]['width'])\n",
        "            im = rle_decode(get_all_codes.loc[d]['annotation'],shape)\n",
        "            main_image = cv2.bitwise_or(main_image,im)\n",
        "        except Exception as e:\n",
        "            sum+=1\n",
        "    # save masks as png image\n",
        "    cv2.imwrite(location+file+'.png',main_image)"
      ],
      "execution_count": null,
      "outputs": []
    },
    {
      "cell_type": "code",
      "metadata": {
        "id": "wPhRso4zdhkS"
      },
      "source": [
        "image = cv2.imread('/content/drive/MyDrive/sartorius-cell-instance-segmentation/train/0a6ecc5fe78a.png',1)\n",
        "print(image.shape)\n",
        "plt.imshow(image)"
      ],
      "execution_count": null,
      "outputs": []
    },
    {
      "cell_type": "code",
      "metadata": {
        "id": "qb8PPcJOGBl-"
      },
      "source": [
        "image = cv2.imread('/content/drive/MyDrive/sartorius-cell-instance-segmentation/after_mask/0a6ecc5fe78a.png',0)\n",
        "plt.imshow(image,'Greys')\n",
        "print(image.shape)"
      ],
      "execution_count": null,
      "outputs": []
    },
    {
      "cell_type": "markdown",
      "source": [
        "# split colored Data to three folders\n"
      ],
      "metadata": {
        "id": "JS2vyU-UmJXL"
      }
    },
    {
      "cell_type": "code",
      "source": [
        "import os,glob\n",
        "# for loop in after mask and put the id with here image\n",
        "the_folder_path=\"/content/drive/MyDrive/sartorius-cell-instance-segmentation/train/\"\n",
        "# print(glob.glob(os.path.join(the_folder_path,\"*.png\")))\n",
        "print(theData.head())\n",
        "print(len(theData))\n",
        "ids=[]\n",
        "images=[]\n",
        "for image_path in glob.glob(os.path.join(the_folder_path,\"*.png\")):\n",
        "  current_image=image_path.split('/')[-1]\n",
        "  ids.append(current_image[:-4])\n",
        "  img=cv2.imread(image_path)\n",
        "  images.append(img)\n",
        "print(len(ids))\n",
        "print(len(images))"
      ],
      "metadata": {
        "id": "3VIXD7csmbwT"
      },
      "execution_count": null,
      "outputs": []
    },
    {
      "cell_type": "code",
      "source": [
        "DataFor_colord_images=pd.DataFrame({'id':ids,'image':images})\n",
        "print(DataFor_colord_images.head())"
      ],
      "metadata": {
        "id": "dRr2f0KImmj2"
      },
      "execution_count": null,
      "outputs": []
    },
    {
      "cell_type": "code",
      "source": [
        "final_colord_data = pd.merge(theData, DataFor_colord_images, on=\"id\")\n",
        "final_colord_data.head()"
      ],
      "metadata": {
        "id": "OrCEAhw1mstZ"
      },
      "execution_count": null,
      "outputs": []
    },
    {
      "cell_type": "code",
      "source": [
        "final_colord_data.to_csv(\"/content/drive/MyDrive/sartorius-cell-instance-segmentation/final_colord_data.csv\")"
      ],
      "metadata": {
        "id": "DUrIE17zmzR4"
      },
      "execution_count": null,
      "outputs": []
    },
    {
      "cell_type": "code",
      "source": [
        "first_path=\"/content/final_colored_cells/shsy5y/\"\n",
        "second_path=\"/content/final_colored_cells/cort/\"\n",
        "third_path=\"/content/final_colored_cells/astro/\"\n",
        "for i in range(len(final_colord_data)):\n",
        "  \n",
        "  if final_colord_data['cell_type'][i] ==\"shsy5y\":\n",
        "    cv2.imwrite(first_path+final_colord_data['id'][i]+'.png',final_colord_data['image'][i])\n",
        "  elif final_colord_data['cell_type'][i] ==\"cort\":\n",
        "    cv2.imwrite(second_path+final_colord_data['id'][i]+'.png',final_colord_data['image'][i])\n",
        "  elif final_colord_data['cell_type'][i] ==\"astro\":  \n",
        "    cv2.imwrite(third_path+final_colord_data['id'][i]+'.png',final_colord_data['image'][i])"
      ],
      "metadata": {
        "id": "aqU6Ndf2nX2V"
      },
      "execution_count": null,
      "outputs": []
    },
    {
      "cell_type": "markdown",
      "metadata": {
        "id": "vye-l1UbeHbn"
      },
      "source": [
        "# **Split Data to Three Folders**"
      ]
    },
    {
      "cell_type": "code",
      "metadata": {
        "id": "4mwa5vKvdeIF"
      },
      "source": [
        "import os,glob\n",
        "# for loop in after mask and put the id with here image\n",
        "the_folder_path=\"/content/drive/MyDrive/sartorius-cell-instance-segmentation/after_mask/\"\n",
        "# print(glob.glob(os.path.join(the_folder_path,\"*.png\")))\n",
        "print(theData.head())\n",
        "print(len(theData))\n",
        "ids=[]\n",
        "images=[]\n",
        "for image_path in glob.glob(os.path.join(the_folder_path,\"*.png\")):\n",
        "  current_image=image_path.split('/')[-1]\n",
        "  ids.append(current_image[:-4])\n",
        "  img=cv2.imread(image_path)\n",
        "  images.append(img)\n",
        "print(len(ids))\n",
        "print(len(images))\n"
      ],
      "execution_count": null,
      "outputs": []
    },
    {
      "cell_type": "code",
      "source": [
        "DataFor_images=pd.DataFrame({'id':ids,'image':images})\n",
        "print(DataFor_images.head())\n"
      ],
      "metadata": {
        "id": "zt7f_yeyIElH"
      },
      "execution_count": null,
      "outputs": []
    },
    {
      "cell_type": "code",
      "source": [
        "final_data = pd.merge(theData, DataFor_images, on=\"id\")\n",
        "final_data.head()"
      ],
      "metadata": {
        "id": "GVHMihVoJ9rc"
      },
      "execution_count": null,
      "outputs": []
    },
    {
      "cell_type": "code",
      "source": [
        "final_data.to_csv(\"/content/drive/MyDrive/sartorius-cell-instance-segmentation/final_data.csv\")"
      ],
      "metadata": {
        "id": "kB1eiVGYKaQ5"
      },
      "execution_count": null,
      "outputs": []
    },
    {
      "cell_type": "code",
      "source": [
        "# !rm -rf /content/drive/MyDrive/sartorius-cell-instance-segmentation/cells"
      ],
      "metadata": {
        "id": "q5AVkf3Ma-ON"
      },
      "execution_count": null,
      "outputs": []
    },
    {
      "cell_type": "code",
      "source": [
        "first_path=\"/content/drive/MyDrive/sartorius-cell-instance-segmentation/cells/shsy5y/\"\n",
        "second_path=\"/content/drive/MyDrive/sartorius-cell-instance-segmentation/cells/cort/\"\n",
        "third_path=\"/content/drive/MyDrive/sartorius-cell-instance-segmentation/cells/astro/\"\n",
        "for i in range(len(final_data)):\n",
        "  \n",
        "  if final_data['cell_type'][i] ==\"shsy5y\":\n",
        "    cv2.imwrite(first_path+final_data['id'][i]+'.png',final_data['image'][i])\n",
        "  elif final_data['cell_type'][i] ==\"cort\":\n",
        "    cv2.imwrite(second_path+final_data['id'][i]+'.png',final_data['image'][i])\n",
        "  elif final_data['cell_type'][i] ==\"astro\":  \n",
        "    cv2.imwrite(third_path+final_data['id'][i]+'.png',final_data['image'][i])"
      ],
      "metadata": {
        "id": "Pn0XPeGPYWRb"
      },
      "execution_count": null,
      "outputs": []
    },
    {
      "cell_type": "markdown",
      "source": [
        "#Make DataFrame For Testing"
      ],
      "metadata": {
        "id": "2vSxMAx41sZq"
      }
    },
    {
      "cell_type": "code",
      "source": [
        "import os\n",
        "the_test_data_path=\"/content/drive/MyDrive/sartorius-cell-instance-segmentation/test_colored_data/*\"\n",
        "images_list=[]\n",
        "label_list=[]\n",
        "\n",
        "for directory_path in glob.glob(the_test_data_path):\n",
        "    label = directory_path.split(\"/\")[-1]\n",
        "    for img_path in glob.glob(os.path.join(directory_path, \"*.png\")):\n",
        "        img = cv2.imread(img_path)       \n",
        "        images_list.append(img)\n",
        "        if label==\"astro\":\n",
        "          label_list.append(0)\n",
        "        elif label==\"cort\":\n",
        "          label_list.append(1)\n",
        "        elif label==\"shsy5y\":\n",
        "          label_list.append(2)  \n",
        "testDataframe=pd.DataFrame({\"image\":images_list,\"label\":label_list})\n",
        "testDataframe.head()"
      ],
      "metadata": {
        "colab": {
          "base_uri": "https://localhost:8080/",
          "height": 206
        },
        "id": "mohQ64iq135q",
        "outputId": "e28b7141-5847-40e1-b518-b3df10c0071b"
      },
      "execution_count": 3,
      "outputs": [
        {
          "output_type": "execute_result",
          "data": {
            "text/html": [
              "\n",
              "  <div id=\"df-a767530f-de86-44cc-907f-5a2d8b56f0fe\">\n",
              "    <div class=\"colab-df-container\">\n",
              "      <div>\n",
              "<style scoped>\n",
              "    .dataframe tbody tr th:only-of-type {\n",
              "        vertical-align: middle;\n",
              "    }\n",
              "\n",
              "    .dataframe tbody tr th {\n",
              "        vertical-align: top;\n",
              "    }\n",
              "\n",
              "    .dataframe thead th {\n",
              "        text-align: right;\n",
              "    }\n",
              "</style>\n",
              "<table border=\"1\" class=\"dataframe\">\n",
              "  <thead>\n",
              "    <tr style=\"text-align: right;\">\n",
              "      <th></th>\n",
              "      <th>image</th>\n",
              "      <th>label</th>\n",
              "    </tr>\n",
              "  </thead>\n",
              "  <tbody>\n",
              "    <tr>\n",
              "      <th>0</th>\n",
              "      <td>[[[127, 127, 127], [127, 127, 127], [130, 130,...</td>\n",
              "      <td>0</td>\n",
              "    </tr>\n",
              "    <tr>\n",
              "      <th>1</th>\n",
              "      <td>[[[124, 124, 124], [125, 125, 125], [129, 129,...</td>\n",
              "      <td>0</td>\n",
              "    </tr>\n",
              "    <tr>\n",
              "      <th>2</th>\n",
              "      <td>[[[126, 126, 126], [127, 127, 127], [128, 128,...</td>\n",
              "      <td>0</td>\n",
              "    </tr>\n",
              "    <tr>\n",
              "      <th>3</th>\n",
              "      <td>[[[131, 131, 131], [131, 131, 131], [125, 125,...</td>\n",
              "      <td>0</td>\n",
              "    </tr>\n",
              "    <tr>\n",
              "      <th>4</th>\n",
              "      <td>[[[127, 127, 127], [127, 127, 127], [127, 127,...</td>\n",
              "      <td>0</td>\n",
              "    </tr>\n",
              "  </tbody>\n",
              "</table>\n",
              "</div>\n",
              "      <button class=\"colab-df-convert\" onclick=\"convertToInteractive('df-a767530f-de86-44cc-907f-5a2d8b56f0fe')\"\n",
              "              title=\"Convert this dataframe to an interactive table.\"\n",
              "              style=\"display:none;\">\n",
              "        \n",
              "  <svg xmlns=\"http://www.w3.org/2000/svg\" height=\"24px\"viewBox=\"0 0 24 24\"\n",
              "       width=\"24px\">\n",
              "    <path d=\"M0 0h24v24H0V0z\" fill=\"none\"/>\n",
              "    <path d=\"M18.56 5.44l.94 2.06.94-2.06 2.06-.94-2.06-.94-.94-2.06-.94 2.06-2.06.94zm-11 1L8.5 8.5l.94-2.06 2.06-.94-2.06-.94L8.5 2.5l-.94 2.06-2.06.94zm10 10l.94 2.06.94-2.06 2.06-.94-2.06-.94-.94-2.06-.94 2.06-2.06.94z\"/><path d=\"M17.41 7.96l-1.37-1.37c-.4-.4-.92-.59-1.43-.59-.52 0-1.04.2-1.43.59L10.3 9.45l-7.72 7.72c-.78.78-.78 2.05 0 2.83L4 21.41c.39.39.9.59 1.41.59.51 0 1.02-.2 1.41-.59l7.78-7.78 2.81-2.81c.8-.78.8-2.07 0-2.86zM5.41 20L4 18.59l7.72-7.72 1.47 1.35L5.41 20z\"/>\n",
              "  </svg>\n",
              "      </button>\n",
              "      \n",
              "  <style>\n",
              "    .colab-df-container {\n",
              "      display:flex;\n",
              "      flex-wrap:wrap;\n",
              "      gap: 12px;\n",
              "    }\n",
              "\n",
              "    .colab-df-convert {\n",
              "      background-color: #E8F0FE;\n",
              "      border: none;\n",
              "      border-radius: 50%;\n",
              "      cursor: pointer;\n",
              "      display: none;\n",
              "      fill: #1967D2;\n",
              "      height: 32px;\n",
              "      padding: 0 0 0 0;\n",
              "      width: 32px;\n",
              "    }\n",
              "\n",
              "    .colab-df-convert:hover {\n",
              "      background-color: #E2EBFA;\n",
              "      box-shadow: 0px 1px 2px rgba(60, 64, 67, 0.3), 0px 1px 3px 1px rgba(60, 64, 67, 0.15);\n",
              "      fill: #174EA6;\n",
              "    }\n",
              "\n",
              "    [theme=dark] .colab-df-convert {\n",
              "      background-color: #3B4455;\n",
              "      fill: #D2E3FC;\n",
              "    }\n",
              "\n",
              "    [theme=dark] .colab-df-convert:hover {\n",
              "      background-color: #434B5C;\n",
              "      box-shadow: 0px 1px 3px 1px rgba(0, 0, 0, 0.15);\n",
              "      filter: drop-shadow(0px 1px 2px rgba(0, 0, 0, 0.3));\n",
              "      fill: #FFFFFF;\n",
              "    }\n",
              "  </style>\n",
              "\n",
              "      <script>\n",
              "        const buttonEl =\n",
              "          document.querySelector('#df-a767530f-de86-44cc-907f-5a2d8b56f0fe button.colab-df-convert');\n",
              "        buttonEl.style.display =\n",
              "          google.colab.kernel.accessAllowed ? 'block' : 'none';\n",
              "\n",
              "        async function convertToInteractive(key) {\n",
              "          const element = document.querySelector('#df-a767530f-de86-44cc-907f-5a2d8b56f0fe');\n",
              "          const dataTable =\n",
              "            await google.colab.kernel.invokeFunction('convertToInteractive',\n",
              "                                                     [key], {});\n",
              "          if (!dataTable) return;\n",
              "\n",
              "          const docLinkHtml = 'Like what you see? Visit the ' +\n",
              "            '<a target=\"_blank\" href=https://colab.research.google.com/notebooks/data_table.ipynb>data table notebook</a>'\n",
              "            + ' to learn more about interactive tables.';\n",
              "          element.innerHTML = '';\n",
              "          dataTable['output_type'] = 'display_data';\n",
              "          await google.colab.output.renderOutput(dataTable, element);\n",
              "          const docLink = document.createElement('div');\n",
              "          docLink.innerHTML = docLinkHtml;\n",
              "          element.appendChild(docLink);\n",
              "        }\n",
              "      </script>\n",
              "    </div>\n",
              "  </div>\n",
              "  "
            ],
            "text/plain": [
              "                                               image  label\n",
              "0  [[[127, 127, 127], [127, 127, 127], [130, 130,...      0\n",
              "1  [[[124, 124, 124], [125, 125, 125], [129, 129,...      0\n",
              "2  [[[126, 126, 126], [127, 127, 127], [128, 128,...      0\n",
              "3  [[[131, 131, 131], [131, 131, 131], [125, 125,...      0\n",
              "4  [[[127, 127, 127], [127, 127, 127], [127, 127,...      0"
            ]
          },
          "metadata": {},
          "execution_count": 3
        }
      ]
    },
    {
      "cell_type": "code",
      "source": [
        "images_list=np.array(images_list)\n",
        "labels_list=np.array(label_list)\n",
        "print(type(images_list))\n",
        "print(type(labels_list))"
      ],
      "metadata": {
        "colab": {
          "base_uri": "https://localhost:8080/"
        },
        "id": "vRff5ZAmaK0N",
        "outputId": "5d5148e9-0bd9-4a65-f4e1-a48012c085fc"
      },
      "execution_count": 4,
      "outputs": [
        {
          "output_type": "stream",
          "name": "stdout",
          "text": [
            "<class 'numpy.ndarray'>\n",
            "<class 'numpy.ndarray'>\n"
          ]
        }
      ]
    },
    {
      "cell_type": "markdown",
      "source": [
        "#John Adel ResNET50"
      ],
      "metadata": {
        "id": "zFoseTiOQ7Jf"
      }
    },
    {
      "cell_type": "code",
      "source": [
        "cd /content/drive/MyDrive/sartorius-cell-instance-segmentation/colored_cells"
      ],
      "metadata": {
        "colab": {
          "base_uri": "https://localhost:8080/"
        },
        "id": "ZoO0IBRykaZm",
        "outputId": "1ff9c96a-7ecf-48e8-b04f-94d22d6f3bb7"
      },
      "execution_count": 8,
      "outputs": [
        {
          "output_type": "stream",
          "name": "stdout",
          "text": [
            "/content/drive/MyDrive/sartorius-cell-instance-segmentation/colored_cells\n"
          ]
        }
      ]
    },
    {
      "cell_type": "code",
      "source": [
        "ls "
      ],
      "metadata": {
        "colab": {
          "base_uri": "https://localhost:8080/"
        },
        "id": "vrl99HaWkhIu",
        "outputId": "2615db63-d611-430c-f9bd-11bb680a8568"
      },
      "execution_count": 5,
      "outputs": [
        {
          "output_type": "stream",
          "name": "stdout",
          "text": [
            "\u001b[0m\u001b[01;34mdrive\u001b[0m/  \u001b[01;34msample_data\u001b[0m/\n"
          ]
        }
      ]
    },
    {
      "cell_type": "code",
      "source": [
        "data_dir=\"/content/drive/MyDrive/sartorius-cell-instance-segmentation/colored_cells/\"\n",
        "img_height,img_width=520,704\n",
        "batch_size=32\n",
        "train_ds = tf.keras.preprocessing.image_dataset_from_directory(\n",
        "  data_dir,\n",
        "  validation_split=0.2,\n",
        "  subset=\"training\",\n",
        "  seed=123,\n",
        "  image_size=(img_height, img_width),\n",
        "  batch_size=batch_size)"
      ],
      "metadata": {
        "colab": {
          "base_uri": "https://localhost:8080/"
        },
        "id": "pqVM107TROA0",
        "outputId": "72de80a7-9cf4-4019-ed16-91767d56ca37"
      },
      "execution_count": 6,
      "outputs": [
        {
          "output_type": "stream",
          "name": "stdout",
          "text": [
            "Found 546 files belonging to 3 classes.\n",
            "Using 437 files for training.\n"
          ]
        }
      ]
    },
    {
      "cell_type": "code",
      "source": [
        "val_ds = tf.keras.preprocessing.image_dataset_from_directory(\n",
        "  data_dir,\n",
        "  validation_split=0.2,\n",
        "  subset=\"validation\",\n",
        "  seed=123,\n",
        "  image_size=(img_height, img_width),\n",
        "  batch_size=batch_size)"
      ],
      "metadata": {
        "colab": {
          "base_uri": "https://localhost:8080/"
        },
        "id": "h_wZPUKpdezw",
        "outputId": "ad407287-eb30-4881-bf3a-0105957b4907"
      },
      "execution_count": 7,
      "outputs": [
        {
          "output_type": "stream",
          "name": "stdout",
          "text": [
            "Found 546 files belonging to 3 classes.\n",
            "Using 109 files for validation.\n"
          ]
        }
      ]
    },
    {
      "cell_type": "code",
      "source": [
        "resnet_model = Sequential()\n",
        "\n",
        "pretrained_model= tf.keras.applications.ResNet50(include_top=False,\n",
        "                   input_shape=(520,704,3),\n",
        "                   pooling='avg',classes=3,\n",
        "                   weights='imagenet')\n",
        "for layer in pretrained_model.layers:\n",
        "        layer.trainable=False\n",
        "\n",
        "resnet_model.add(pretrained_model)"
      ],
      "metadata": {
        "id": "Le-ycNOUKod1"
      },
      "execution_count": 8,
      "outputs": []
    },
    {
      "cell_type": "code",
      "source": [
        "resnet_model.add(Flatten())\n",
        "resnet_model.add(Dense(512, activation='relu'))\n",
        "resnet_model.add(layers.Dropout(rate=0.2))\n",
        "resnet_model.add(Dense(3, activation='softmax'))"
      ],
      "metadata": {
        "id": "GFxU_TJCfck2"
      },
      "execution_count": 9,
      "outputs": []
    },
    {
      "cell_type": "code",
      "source": [
        "resnet_model.summary()"
      ],
      "metadata": {
        "colab": {
          "base_uri": "https://localhost:8080/"
        },
        "id": "HhVKpMHvfiwW",
        "outputId": "ff9d425f-7655-4e0e-a8fe-5f6458199b67"
      },
      "execution_count": 10,
      "outputs": [
        {
          "output_type": "stream",
          "name": "stdout",
          "text": [
            "Model: \"sequential\"\n",
            "_________________________________________________________________\n",
            " Layer (type)                Output Shape              Param #   \n",
            "=================================================================\n",
            " resnet50 (Functional)       (None, 2048)              23587712  \n",
            "                                                                 \n",
            " flatten (Flatten)           (None, 2048)              0         \n",
            "                                                                 \n",
            " dense (Dense)               (None, 512)               1049088   \n",
            "                                                                 \n",
            " dropout (Dropout)           (None, 512)               0         \n",
            "                                                                 \n",
            " dense_1 (Dense)             (None, 3)                 1539      \n",
            "                                                                 \n",
            "=================================================================\n",
            "Total params: 24,638,339\n",
            "Trainable params: 1,050,627\n",
            "Non-trainable params: 23,587,712\n",
            "_________________________________________________________________\n"
          ]
        }
      ]
    },
    {
      "cell_type": "code",
      "source": [
        "callback = tf.keras.callbacks.EarlyStopping(monitor='accuracy', patience=2)\n",
        "resnet_model.compile(optimizer=Adam(lr=0.001),loss='sparse_categorical_crossentropy',metrics=['accuracy'])\n",
        "history_resnet50 = resnet_model.fit(train_ds, validation_data=val_ds, epochs=10,callbacks=[callback])"
      ],
      "metadata": {
        "colab": {
          "base_uri": "https://localhost:8080/"
        },
        "id": "wGO3eYe3fuco",
        "outputId": "d9a77d53-3908-44eb-ad53-4bd01b95cbbc"
      },
      "execution_count": 11,
      "outputs": [
        {
          "output_type": "stream",
          "name": "stdout",
          "text": [
            "Epoch 1/10\n"
          ]
        },
        {
          "output_type": "stream",
          "name": "stderr",
          "text": [
            "/usr/local/lib/python3.7/dist-packages/keras/optimizer_v2/adam.py:105: UserWarning: The `lr` argument is deprecated, use `learning_rate` instead.\n",
            "  super(Adam, self).__init__(name, **kwargs)\n"
          ]
        },
        {
          "output_type": "stream",
          "name": "stdout",
          "text": [
            "14/14 [==============================] - 587s 41s/step - loss: 0.3602 - accuracy: 0.8970 - val_loss: 0.1988 - val_accuracy: 0.9358\n",
            "Epoch 2/10\n",
            "14/14 [==============================] - 559s 40s/step - loss: 0.0757 - accuracy: 0.9748 - val_loss: 0.0818 - val_accuracy: 0.9725\n",
            "Epoch 3/10\n",
            "14/14 [==============================] - 561s 40s/step - loss: 0.0246 - accuracy: 0.9931 - val_loss: 0.0172 - val_accuracy: 1.0000\n",
            "Epoch 4/10\n",
            "14/14 [==============================] - 573s 41s/step - loss: 0.0102 - accuracy: 0.9954 - val_loss: 0.0084 - val_accuracy: 1.0000\n",
            "Epoch 5/10\n",
            "14/14 [==============================] - 571s 41s/step - loss: 0.0047 - accuracy: 1.0000 - val_loss: 0.0103 - val_accuracy: 1.0000\n",
            "Epoch 6/10\n",
            "14/14 [==============================] - 571s 41s/step - loss: 0.0064 - accuracy: 0.9977 - val_loss: 0.0052 - val_accuracy: 1.0000\n",
            "Epoch 7/10\n",
            "14/14 [==============================] - 570s 41s/step - loss: 0.0027 - accuracy: 1.0000 - val_loss: 0.0053 - val_accuracy: 1.0000\n"
          ]
        }
      ]
    },
    {
      "cell_type": "code",
      "source": [
        "result_resnet=resnet_model.predict(images_list)\n",
        "y_pred_resnet = np.argmax(result_resnet, axis=1)\n",
        "target_names=[\"astro\",\"cort\",\"shsy5y\"]\n",
        "print(classification_report(y_pred_resnet, label_list, target_names=target_names))"
      ],
      "metadata": {
        "colab": {
          "base_uri": "https://localhost:8080/"
        },
        "id": "Eud0c-1UamhL",
        "outputId": "8ddb1c04-fcf8-4088-fd39-752be5c53355"
      },
      "execution_count": 12,
      "outputs": [
        {
          "output_type": "stream",
          "name": "stdout",
          "text": [
            "              precision    recall  f1-score   support\n",
            "\n",
            "       astro       1.00      1.00      1.00        20\n",
            "        cort       1.00      1.00      1.00        20\n",
            "      shsy5y       1.00      1.00      1.00        20\n",
            "\n",
            "    accuracy                           1.00        60\n",
            "   macro avg       1.00      1.00      1.00        60\n",
            "weighted avg       1.00      1.00      1.00        60\n",
            "\n"
          ]
        }
      ]
    },
    {
      "cell_type": "code",
      "source": [
        "fig1 = plt.gcf()\n",
        "plt.plot(history_resnet50.history['accuracy'])\n",
        "plt.plot(history_resnet50.history['val_accuracy'])\n",
        "plt.axis(ymin=0.4,ymax=1)\n",
        "plt.grid()\n",
        "plt.title('Model Accuracy')\n",
        "plt.ylabel('Accuracy')\n",
        "plt.xlabel('Epochs')\n",
        "plt.legend(['train', 'validation'])\n",
        "plt.show()"
      ],
      "metadata": {
        "id": "2jngg1qBdAg-",
        "colab": {
          "base_uri": "https://localhost:8080/",
          "height": 295
        },
        "outputId": "9c985d6a-99d3-4a99-80f0-f2938fa283de"
      },
      "execution_count": 13,
      "outputs": [
        {
          "output_type": "display_data",
          "data": {
            "image/png": "[encoded data removed]",
            "text/plain": [
              "<Figure size 432x288 with 1 Axes>"
            ]
          },
          "metadata": {
            "needs_background": "light"
          }
        }
      ]
    },
    {
      "cell_type": "code",
      "source": [
        "# summarize history for loss\n",
        "plt.plot(history_resnet50.history['loss'])\n",
        "plt.plot(history_resnet50.history['val_loss'])\n",
        "plt.title('model loss')\n",
        "plt.ylabel('loss')\n",
        "plt.xlabel('epoch')\n",
        "plt.legend(['train', 'test'], loc='upper left')\n",
        "plt.show()"
      ],
      "metadata": {
        "id": "eBwEJLCLd11_",
        "colab": {
          "base_uri": "https://localhost:8080/",
          "height": 295
        },
        "outputId": "c5b7aafb-653f-47df-bfaa-62460cafc610"
      },
      "execution_count": 14,
      "outputs": [
        {
          "output_type": "display_data",
          "data": {
            "image/png": "[encoded data removed]",
            "text/plain": [
              "<Figure size 432x288 with 1 Axes>"
            ]
          },
          "metadata": {
            "needs_background": "light"
          }
        }
      ]
    },
    {
      "cell_type": "markdown",
      "source": [
        "#Ameen Reda VGG-16\n",
        "\n"
      ],
      "metadata": {
        "id": "7ApYE4GT6dEs"
      }
    },
    {
      "cell_type": "code",
      "source": [
        "vgg_16_image=cv2.imread(\"/content/drive/MyDrive/sartorius-cell-instance-segmentation/VGG-16.png\",1)\n",
        "plt.imshow(vgg_16_image)"
      ],
      "metadata": {
        "id": "rJILEU_NeWeY",
        "colab": {
          "base_uri": "https://localhost:8080/",
          "height": 217
        },
        "outputId": "f5e90ca4-3090-4299-bba0-fa3dd366585c"
      },
      "execution_count": 15,
      "outputs": [
        {
          "output_type": "execute_result",
          "data": {
            "text/plain": [
              "<matplotlib.image.AxesImage at 0x7f2d76010410>"
            ]
          },
          "metadata": {},
          "execution_count": 15
        },
        {
          "output_type": "display_data",
          "data": {
            "image/png": "[encoded data removed]",
            "text/plain": [
              "<Figure size 432x288 with 1 Axes>"
            ]
          },
          "metadata": {
            "needs_background": "light"
          }
        }
      ]
    },
    {
      "cell_type": "code",
      "source": [
        "VGG16 = Sequential()\n",
        "pretrained_model_vGG=tf.keras.applications.VGG16(\n",
        "    include_top=False,\n",
        "    weights=\"imagenet\",\n",
        "    input_tensor=None,\n",
        "    input_shape=(520,704,3),\n",
        "    pooling=\"max\",\n",
        "    classes=3,\n",
        "    classifier_activation=\"softmax\",\n",
        ")\n",
        "for layer in pretrained_model_vGG.layers:\n",
        "        layer.trainable=False"
      ],
      "metadata": {
        "id": "H27M5DdSXhBE"
      },
      "execution_count": 19,
      "outputs": []
    },
    {
      "cell_type": "code",
      "source": [
        "VGG16.add(pretrained_model_vGG)\n",
        "VGG16.add(Flatten())\n",
        "VGG16.add(Dense(512, activation='relu'))\n",
        "VGG16.add(layers.Dropout(rate=0.2))\n",
        "VGG16.add(Dense(512, activation='relu'))\n",
        "VGG16.add(Dense(3, activation='softmax'))"
      ],
      "metadata": {
        "id": "pCQMSzt_ZGAv"
      },
      "execution_count": 20,
      "outputs": []
    },
    {
      "cell_type": "code",
      "source": [
        "VGG16.summary()"
      ],
      "metadata": {
        "id": "34WIx7j7ZSBj",
        "colab": {
          "base_uri": "https://localhost:8080/"
        },
        "outputId": "f7d088fe-5a03-4cb9-e916-8a8edd795e2d"
      },
      "execution_count": 21,
      "outputs": [
        {
          "output_type": "stream",
          "name": "stdout",
          "text": [
            "Model: \"sequential_2\"\n",
            "_________________________________________________________________\n",
            " Layer (type)                Output Shape              Param #   \n",
            "=================================================================\n",
            " vgg16 (Functional)          (None, 512)               14714688  \n",
            "                                                                 \n",
            " flatten_2 (Flatten)         (None, 512)               0         \n",
            "                                                                 \n",
            " dense_3 (Dense)             (None, 512)               262656    \n",
            "                                                                 \n",
            " dropout_2 (Dropout)         (None, 512)               0         \n",
            "                                                                 \n",
            " dense_4 (Dense)             (None, 512)               262656    \n",
            "                                                                 \n",
            " dense_5 (Dense)             (None, 3)                 1539      \n",
            "                                                                 \n",
            "=================================================================\n",
            "Total params: 15,241,539\n",
            "Trainable params: 526,851\n",
            "Non-trainable params: 14,714,688\n",
            "_________________________________________________________________\n"
          ]
        }
      ]
    },
    {
      "cell_type": "code",
      "source": [
        "callback = tf.keras.callbacks.EarlyStopping(monitor='accuracy', patience=2)\n",
        "VGG16.compile(optimizer=Adam(lr=0.001),loss=\"sparse_categorical_crossentropy\",metrics=['accuracy'])\n",
        "history_VGG16 = VGG16.fit(train_ds, validation_data=val_ds, epochs=10,callbacks=[callback])"
      ],
      "metadata": {
        "id": "F_XskA6bYv-F",
        "colab": {
          "base_uri": "https://localhost:8080/"
        },
        "outputId": "369f0cd5-3e4e-4970-cd26-2349d951b3d7"
      },
      "execution_count": 22,
      "outputs": [
        {
          "output_type": "stream",
          "name": "stderr",
          "text": [
            "/usr/local/lib/python3.7/dist-packages/keras/optimizer_v2/adam.py:105: UserWarning: The `lr` argument is deprecated, use `learning_rate` instead.\n",
            "  super(Adam, self).__init__(name, **kwargs)\n"
          ]
        },
        {
          "output_type": "stream",
          "name": "stdout",
          "text": [
            "Epoch 1/10\n",
            "14/14 [==============================] - 1825s 132s/step - loss: 14.5929 - accuracy: 0.7323 - val_loss: 3.2505 - val_accuracy: 0.9266\n",
            "Epoch 2/10\n",
            "14/14 [==============================] - 1824s 132s/step - loss: 1.9709 - accuracy: 0.9153 - val_loss: 2.2247 - val_accuracy: 0.9541\n",
            "Epoch 3/10\n",
            "14/14 [==============================] - 1836s 132s/step - loss: 0.9888 - accuracy: 0.9657 - val_loss: 0.3034 - val_accuracy: 0.9725\n",
            "Epoch 4/10\n",
            "14/14 [==============================] - 1825s 132s/step - loss: 0.1572 - accuracy: 0.9771 - val_loss: 0.3361 - val_accuracy: 0.9817\n",
            "Epoch 5/10\n",
            "14/14 [==============================] - 1832s 132s/step - loss: 0.0406 - accuracy: 0.9908 - val_loss: 0.2521 - val_accuracy: 0.9817\n",
            "Epoch 6/10\n",
            "14/14 [==============================] - 1833s 132s/step - loss: 0.1035 - accuracy: 0.9794 - val_loss: 0.2746 - val_accuracy: 0.9817\n",
            "Epoch 7/10\n",
            "14/14 [==============================] - 1839s 133s/step - loss: 0.1114 - accuracy: 0.9725 - val_loss: 0.3251 - val_accuracy: 0.9358\n"
          ]
        }
      ]
    },
    {
      "cell_type": "code",
      "source": [
        "result_VGG16=VGG16.predict(images_list)\n",
        "y_pred_VGG16 = np.argmax(result_VGG16, axis=1)\n",
        "target_names=[\"astro\",\"cort\",\"shsy5y\"]\n",
        "print(classification_report(y_pred_VGG16, label_list, target_names=target_names))"
      ],
      "metadata": {
        "id": "FR-Pmf-MeHYp",
        "colab": {
          "base_uri": "https://localhost:8080/"
        },
        "outputId": "60bae86d-0e5c-4da3-dd24-d5c14292ac8b"
      },
      "execution_count": 23,
      "outputs": [
        {
          "output_type": "stream",
          "name": "stdout",
          "text": [
            "              precision    recall  f1-score   support\n",
            "\n",
            "       astro       0.80      1.00      0.89        16\n",
            "        cort       1.00      1.00      1.00        20\n",
            "      shsy5y       1.00      0.83      0.91        24\n",
            "\n",
            "    accuracy                           0.93        60\n",
            "   macro avg       0.93      0.94      0.93        60\n",
            "weighted avg       0.95      0.93      0.93        60\n",
            "\n"
          ]
        }
      ]
    },
    {
      "cell_type": "code",
      "source": [
        "fig1 = plt.gcf()\n",
        "plt.plot(history_VGG16.history['accuracy'])\n",
        "plt.plot(history_VGG16.history['val_accuracy'])\n",
        "plt.axis(ymin=0.4,ymax=1)\n",
        "plt.grid()\n",
        "plt.title('Model Accuracy')\n",
        "plt.ylabel('Accuracy')\n",
        "plt.xlabel('Epochs')\n",
        "plt.legend(['train', 'validation'])\n",
        "plt.show()"
      ],
      "metadata": {
        "id": "TXkujYYlhgyr",
        "colab": {
          "base_uri": "https://localhost:8080/",
          "height": 295
        },
        "outputId": "d5483a7a-de86-4b6a-b7db-550fd89e767b"
      },
      "execution_count": 24,
      "outputs": [
        {
          "output_type": "display_data",
          "data": {
            "image/png": "[encoded data removed]",
            "text/plain": [
              "<Figure size 432x288 with 1 Axes>"
            ]
          },
          "metadata": {
            "needs_background": "light"
          }
        }
      ]
    },
    {
      "cell_type": "code",
      "source": [
        "# summarize history for loss\n",
        "plt.plot(history_VGG16.history['loss'])\n",
        "plt.plot(history_VGG16.history['val_loss'])\n",
        "plt.title('model loss')\n",
        "plt.ylabel('loss')\n",
        "plt.xlabel('epoch')\n",
        "plt.legend(['train', 'test'], loc='upper left')\n",
        "plt.show()"
      ],
      "metadata": {
        "id": "ifPnO3dAdzjC",
        "colab": {
          "base_uri": "https://localhost:8080/",
          "height": 295
        },
        "outputId": "9d515f18-5ed1-4acb-a5f0-928fd4a3916b"
      },
      "execution_count": 25,
      "outputs": [
        {
          "output_type": "display_data",
          "data": {
            "image/png": "[encoded data removed]",
            "text/plain": [
              "<Figure size 432x288 with 1 Axes>"
            ]
          },
          "metadata": {
            "needs_background": "light"
          }
        }
      ]
    },
    {
      "cell_type": "markdown",
      "source": [
        "# Nada Salah "
      ],
      "metadata": {
        "id": "eTQ2wJPIGNkM"
      }
    },
    {
      "cell_type": "markdown",
      "source": [
        "##CNN Nada Salah"
      ],
      "metadata": {
        "id": "CSUTZ7NgJGIf"
      }
    },
    {
      "cell_type": "code",
      "source": [
        "from tensorflow.keras import datasets, layers, models"
      ],
      "metadata": {
        "id": "pANAjP0ZHHxd"
      },
      "execution_count": 8,
      "outputs": []
    },
    {
      "cell_type": "markdown",
      "source": [
        ""
      ],
      "metadata": {
        "id": "KcO0FNLVhaob"
      }
    },
    {
      "cell_type": "code",
      "source": [
        "cnn = models.Sequential([\n",
        "    layers.Conv2D(filters=32, kernel_size=(3, 3), activation='relu', input_shape=(520,704, 3)),\n",
        "    layers.MaxPooling2D((2, 2)),\n",
        "    \n",
        "    layers.Conv2D(filters=64, kernel_size=(3, 3), activation='relu'),\n",
        "    layers.MaxPooling2D((2, 2)),\n",
        "    \n",
        "    layers.Flatten(),\n",
        "    layers.Dense(60, activation='relu'),\n",
        "    layers.Dropout(rate=0.5),\n",
        "    layers.Dense(3, activation='softmax')\n",
        "])"
      ],
      "metadata": {
        "id": "U3eyXz2eGM11"
      },
      "execution_count": 9,
      "outputs": []
    },
    {
      "cell_type": "code",
      "source": [
        "Adagrad=tf.keras.optimizers.Adagrad(\n",
        "    learning_rate=0.001,\n",
        "    initial_accumulator_value=0.1,\n",
        "    epsilon=1e-07,\n",
        "    name=\"Adagrad\"\n",
        ")\n",
        "cnn.compile(optimizer=Adagrad,\n",
        "              loss='sparse_categorical_crossentropy',\n",
        "              metrics=['accuracy'])"
      ],
      "metadata": {
        "id": "GwztBUu1G2pN"
      },
      "execution_count": 10,
      "outputs": []
    },
    {
      "cell_type": "code",
      "source": [
        "cnn.summary()"
      ],
      "metadata": {
        "colab": {
          "base_uri": "https://localhost:8080/"
        },
        "id": "GPVOOM9yitW8",
        "outputId": "a86d3408-3250-46e1-e1de-2cc1d097f12a"
      },
      "execution_count": 11,
      "outputs": [
        {
          "output_type": "stream",
          "name": "stdout",
          "text": [
            "Model: \"sequential\"\n",
            "_________________________________________________________________\n",
            " Layer (type)                Output Shape              Param #   \n",
            "=================================================================\n",
            " conv2d (Conv2D)             (None, 518, 702, 32)      896       \n",
            "                                                                 \n",
            " max_pooling2d (MaxPooling2D  (None, 259, 351, 32)     0         \n",
            " )                                                               \n",
            "                                                                 \n",
            " conv2d_1 (Conv2D)           (None, 257, 349, 64)      18496     \n",
            "                                                                 \n",
            " max_pooling2d_1 (MaxPooling  (None, 128, 174, 64)     0         \n",
            " 2D)                                                             \n",
            "                                                                 \n",
            " flatten (Flatten)           (None, 1425408)           0         \n",
            "                                                                 \n",
            " dense (Dense)               (None, 60)                85524540  \n",
            "                                                                 \n",
            " dropout (Dropout)           (None, 60)                0         \n",
            "                                                                 \n",
            " dense_1 (Dense)             (None, 3)                 183       \n",
            "                                                                 \n",
            "=================================================================\n",
            "Total params: 85,544,115\n",
            "Trainable params: 85,544,115\n",
            "Non-trainable params: 0\n",
            "_________________________________________________________________\n"
          ]
        }
      ]
    },
    {
      "cell_type": "code",
      "source": [
        "callback = tf.keras.callbacks.EarlyStopping(monitor='accuracy', patience=3)\n",
        "history_cnn=cnn.fit(train_ds, validation_data=val_ds, epochs=10,callbacks=[callback])"
      ],
      "metadata": {
        "id": "iizSguoNHsf-",
        "colab": {
          "base_uri": "https://localhost:8080/"
        },
        "outputId": "70c136ed-5a1e-49fe-8517-0d4061ed3dc7"
      },
      "execution_count": 12,
      "outputs": [
        {
          "output_type": "stream",
          "name": "stdout",
          "text": [
            "Epoch 1/10\n",
            "14/14 [==============================] - 233s 16s/step - loss: 1365.0450 - accuracy: 0.4439 - val_loss: 1.0936 - val_accuracy: 0.5688\n",
            "Epoch 2/10\n",
            "14/14 [==============================] - 221s 16s/step - loss: 1.0974 - accuracy: 0.5446 - val_loss: 1.0955 - val_accuracy: 0.5688\n",
            "Epoch 3/10\n",
            "14/14 [==============================] - 215s 15s/step - loss: 120.9448 - accuracy: 0.5446 - val_loss: 1.0944 - val_accuracy: 0.5688\n",
            "Epoch 4/10\n",
            "14/14 [==============================] - 213s 15s/step - loss: 1.0960 - accuracy: 0.5446 - val_loss: 1.0937 - val_accuracy: 0.5688\n",
            "Epoch 5/10\n",
            "14/14 [==============================] - 222s 15s/step - loss: 1.0957 - accuracy: 0.5423 - val_loss: 1.0931 - val_accuracy: 0.5688\n"
          ]
        }
      ]
    },
    {
      "cell_type": "code",
      "source": [
        "result_cnn=cnn.predict(images_list)\n",
        "y_pred_cnn = np.argmax(result_cnn, axis=1)\n",
        "target_names=[\"astro\",\"cort\",\"shsy5y\"]\n",
        "print(classification_report(y_pred_cnn, label_list, target_names=target_names))"
      ],
      "metadata": {
        "id": "6Pc5tkntWzsr",
        "colab": {
          "base_uri": "https://localhost:8080/"
        },
        "outputId": "e14f4a3a-c426-41d0-ef52-4ccad49af2da"
      },
      "execution_count": 13,
      "outputs": [
        {
          "output_type": "stream",
          "name": "stdout",
          "text": [
            "              precision    recall  f1-score   support\n",
            "\n",
            "       astro       0.00      0.00      0.00         0\n",
            "        cort       1.00      0.33      0.50        60\n",
            "      shsy5y       0.00      0.00      0.00         0\n",
            "\n",
            "    accuracy                           0.33        60\n",
            "   macro avg       0.33      0.11      0.17        60\n",
            "weighted avg       1.00      0.33      0.50        60\n",
            "\n"
          ]
        },
        {
          "output_type": "stream",
          "name": "stderr",
          "text": [
            "/usr/local/lib/python3.7/dist-packages/sklearn/metrics/_classification.py:1308: UndefinedMetricWarning: Recall and F-score are ill-defined and being set to 0.0 in labels with no true samples. Use `zero_division` parameter to control this behavior.\n",
            "  _warn_prf(average, modifier, msg_start, len(result))\n",
            "/usr/local/lib/python3.7/dist-packages/sklearn/metrics/_classification.py:1308: UndefinedMetricWarning: Recall and F-score are ill-defined and being set to 0.0 in labels with no true samples. Use `zero_division` parameter to control this behavior.\n",
            "  _warn_prf(average, modifier, msg_start, len(result))\n",
            "/usr/local/lib/python3.7/dist-packages/sklearn/metrics/_classification.py:1308: UndefinedMetricWarning: Recall and F-score are ill-defined and being set to 0.0 in labels with no true samples. Use `zero_division` parameter to control this behavior.\n",
            "  _warn_prf(average, modifier, msg_start, len(result))\n"
          ]
        }
      ]
    },
    {
      "cell_type": "code",
      "source": [
        "fig1 = plt.gcf()\n",
        "plt.plot(history_cnn.history['accuracy'])\n",
        "plt.plot(history_cnn.history['val_accuracy'])\n",
        "plt.axis(ymin=0.4,ymax=1)\n",
        "plt.grid()\n",
        "plt.title('Model Accuracy')\n",
        "plt.ylabel('Accuracy')\n",
        "plt.xlabel('Epochs')\n",
        "plt.legend(['train', 'validation'])\n",
        "plt.show()"
      ],
      "metadata": {
        "id": "_EE4SCE7-iFp",
        "colab": {
          "base_uri": "https://localhost:8080/",
          "height": 295
        },
        "outputId": "ca50e3d1-7a20-410e-dbc4-ecb63c4cc0e8"
      },
      "execution_count": 14,
      "outputs": [
        {
          "output_type": "display_data",
          "data": {
            "image/png": "[encoded data removed]",
            "text/plain": [
              "<Figure size 432x288 with 1 Axes>"
            ]
          },
          "metadata": {
            "needs_background": "light"
          }
        }
      ]
    },
    {
      "cell_type": "code",
      "source": [
        "# summarize history for loss\n",
        "plt.plot(history_cnn.history['loss'])\n",
        "plt.plot(history_cnn.history['val_loss'])\n",
        "plt.title('model loss')\n",
        "plt.ylabel('loss')\n",
        "plt.xlabel('epoch')\n",
        "plt.legend(['train', 'test'], loc='upper left')\n",
        "plt.show()"
      ],
      "metadata": {
        "id": "8_dklVdMa2TG",
        "colab": {
          "base_uri": "https://localhost:8080/",
          "height": 295
        },
        "outputId": "e36dcd7a-5469-42c1-b2ec-5abbc680bfe1"
      },
      "execution_count": 15,
      "outputs": [
        {
          "output_type": "display_data",
          "data": {
            "image/png": "[encoded data removed]",
            "text/plain": [
              "<Figure size 432x288 with 1 Axes>"
            ]
          },
          "metadata": {
            "needs_background": "light"
          }
        }
      ]
    },
    {
      "cell_type": "markdown",
      "source": [
        "#EfficientNetB0 Nada Salah"
      ],
      "metadata": {
        "id": "C2Y7gEWuJQLI"
      }
    },
    {
      "cell_type": "markdown",
      "source": [
        ""
      ],
      "metadata": {
        "id": "QDoeuL2UGI-s"
      }
    },
    {
      "cell_type": "code",
      "source": [
        "EfficientNetB0=Sequential()\n",
        "pre_trained_EfficientNetB0=tf.keras.applications.EfficientNetB0(\n",
        "    include_top=False,\n",
        "    weights=\"imagenet\",\n",
        "    input_tensor=None,\n",
        "    input_shape=(520,704,3),\n",
        "    pooling=\"avg\",\n",
        "    classes=3,\n",
        "    classifier_activation=\"softmax\",\n",
        ")\n",
        "for layer in pre_trained_EfficientNetB0.layers:\n",
        "        layer.trainable=False"
      ],
      "metadata": {
        "id": "bWSsXx40JO1u",
        "colab": {
          "base_uri": "https://localhost:8080/"
        },
        "outputId": "2b60d7f5-dc23-42b6-e8ea-9341c85963e0"
      },
      "execution_count": 16,
      "outputs": [
        {
          "output_type": "stream",
          "name": "stdout",
          "text": [
            "Downloading data from https://storage.googleapis.com/keras-applications/efficientnetb0_notop.h5\n",
            "16711680/16705208 [==============================] - 0s 0us/step\n",
            "16719872/16705208 [==============================] - 0s 0us/step\n"
          ]
        }
      ]
    },
    {
      "cell_type": "code",
      "source": [
        "EfficientNetB0.add(pre_trained_EfficientNetB0)\n",
        "EfficientNetB0.add(Flatten())\n",
        "EfficientNetB0.add(Dense(300, activation='relu')),\n",
        "EfficientNetB0.add(layers.Dropout(rate=0.5)),\n",
        "EfficientNetB0.add(Dense(250, activation='relu')),\n",
        "EfficientNetB0.add(Dense(3, activation='softmax'))   \n",
        "EfficientNetB0.summary() "
      ],
      "metadata": {
        "id": "f-by8EktKIH6",
        "colab": {
          "base_uri": "https://localhost:8080/"
        },
        "outputId": "4bf283e4-01ef-4546-aa8e-bf054fdde425"
      },
      "execution_count": 17,
      "outputs": [
        {
          "output_type": "stream",
          "name": "stdout",
          "text": [
            "Model: \"sequential_1\"\n",
            "_________________________________________________________________\n",
            " Layer (type)                Output Shape              Param #   \n",
            "=================================================================\n",
            " efficientnetb0 (Functional)  (None, 1280)             4049571   \n",
            "                                                                 \n",
            " flatten_1 (Flatten)         (None, 1280)              0         \n",
            "                                                                 \n",
            " dense_2 (Dense)             (None, 300)               384300    \n",
            "                                                                 \n",
            " dropout_1 (Dropout)         (None, 300)               0         \n",
            "                                                                 \n",
            " dense_3 (Dense)             (None, 250)               75250     \n",
            "                                                                 \n",
            " dense_4 (Dense)             (None, 3)                 753       \n",
            "                                                                 \n",
            "=================================================================\n",
            "Total params: 4,509,874\n",
            "Trainable params: 460,303\n",
            "Non-trainable params: 4,049,571\n",
            "_________________________________________________________________\n"
          ]
        }
      ]
    },
    {
      "cell_type": "code",
      "source": [
        "callback = tf.keras.callbacks.EarlyStopping(monitor='accuracy', patience=3)\n",
        "EfficientNetB0.compile(optimizer='SGD',loss='sparse_categorical_crossentropy',metrics=['accuracy'])\n",
        "history_EfficientNetB0 = EfficientNetB0.fit(train_ds, validation_data=val_ds, epochs=15,callbacks=[callback])"
      ],
      "metadata": {
        "id": "9U6QADMzLYL2",
        "colab": {
          "base_uri": "https://localhost:8080/"
        },
        "outputId": "34e1d86d-ae28-4816-a34f-3c61e297be6a"
      },
      "execution_count": 18,
      "outputs": [
        {
          "output_type": "stream",
          "name": "stdout",
          "text": [
            "Epoch 1/15\n",
            "14/14 [==============================] - 203s 14s/step - loss: 0.9056 - accuracy: 0.6041 - val_loss: 0.6612 - val_accuracy: 0.7248\n",
            "Epoch 2/15\n",
            "14/14 [==============================] - 202s 14s/step - loss: 0.6435 - accuracy: 0.7757 - val_loss: 0.4770 - val_accuracy: 0.7615\n",
            "Epoch 3/15\n",
            "14/14 [==============================] - 218s 16s/step - loss: 0.4858 - accuracy: 0.8627 - val_loss: 0.3635 - val_accuracy: 0.8440\n",
            "Epoch 4/15\n",
            "14/14 [==============================] - 202s 14s/step - loss: 0.3991 - accuracy: 0.8696 - val_loss: 0.2740 - val_accuracy: 0.9358\n",
            "Epoch 5/15\n",
            "14/14 [==============================] - 226s 16s/step - loss: 0.3283 - accuracy: 0.9314 - val_loss: 0.2272 - val_accuracy: 0.9450\n",
            "Epoch 6/15\n",
            "14/14 [==============================] - 195s 14s/step - loss: 0.2818 - accuracy: 0.9336 - val_loss: 0.1876 - val_accuracy: 0.9541\n",
            "Epoch 7/15\n",
            "14/14 [==============================] - 220s 16s/step - loss: 0.2285 - accuracy: 0.9611 - val_loss: 0.1578 - val_accuracy: 0.9725\n",
            "Epoch 8/15\n",
            "14/14 [==============================] - 215s 15s/step - loss: 0.1949 - accuracy: 0.9725 - val_loss: 0.1392 - val_accuracy: 0.9725\n",
            "Epoch 9/15\n",
            "14/14 [==============================] - 229s 17s/step - loss: 0.1914 - accuracy: 0.9588 - val_loss: 0.1244 - val_accuracy: 0.9725\n",
            "Epoch 10/15\n",
            "14/14 [==============================] - 185s 13s/step - loss: 0.1808 - accuracy: 0.9634 - val_loss: 0.1143 - val_accuracy: 0.9725\n",
            "Epoch 11/15\n",
            "14/14 [==============================] - 197s 14s/step - loss: 0.1577 - accuracy: 0.9657 - val_loss: 0.1072 - val_accuracy: 0.9725\n"
          ]
        }
      ]
    },
    {
      "cell_type": "code",
      "source": [
        "result_EfficientNetB0=EfficientNetB0.predict(images_list)\n",
        "y_pred_EfficientNetB0 = np.argmax(result_EfficientNetB0, axis=1)\n",
        "target_names=[\"astro\",\"cort\",\"shsy5y\"]\n",
        "print(classification_report(y_pred_EfficientNetB0, label_list, target_names=target_names))"
      ],
      "metadata": {
        "id": "fdVqTY1Ee9AZ",
        "colab": {
          "base_uri": "https://localhost:8080/"
        },
        "outputId": "023df732-7fa9-4e09-8cba-8a486ae3c788"
      },
      "execution_count": 19,
      "outputs": [
        {
          "output_type": "stream",
          "name": "stdout",
          "text": [
            "              precision    recall  f1-score   support\n",
            "\n",
            "       astro       1.00      1.00      1.00        20\n",
            "        cort       1.00      1.00      1.00        20\n",
            "      shsy5y       1.00      1.00      1.00        20\n",
            "\n",
            "    accuracy                           1.00        60\n",
            "   macro avg       1.00      1.00      1.00        60\n",
            "weighted avg       1.00      1.00      1.00        60\n",
            "\n"
          ]
        }
      ]
    },
    {
      "cell_type": "code",
      "source": [
        "fig1 = plt.gcf()\n",
        "plt.plot(history_EfficientNetB0.history['accuracy'])\n",
        "plt.plot(history_EfficientNetB0.history['val_accuracy'])\n",
        "plt.axis(ymin=0.4,ymax=1)\n",
        "plt.grid()\n",
        "plt.title('Model Accuracy')\n",
        "plt.ylabel('Accuracy')\n",
        "plt.xlabel('Epochs')\n",
        "plt.legend(['train', 'validation'])\n",
        "plt.show()"
      ],
      "metadata": {
        "id": "WxVTfwsVx0yz",
        "colab": {
          "base_uri": "https://localhost:8080/",
          "height": 295
        },
        "outputId": "854d66ef-104f-44f3-ae08-52b821c45c02"
      },
      "execution_count": 20,
      "outputs": [
        {
          "output_type": "display_data",
          "data": {
            "image/png": "[encoded data removed]",
            "text/plain": [
              "<Figure size 432x288 with 1 Axes>"
            ]
          },
          "metadata": {
            "needs_background": "light"
          }
        }
      ]
    },
    {
      "cell_type": "code",
      "source": [
        "# summarize history for loss\n",
        "plt.plot(history_EfficientNetB0.history['loss'])\n",
        "plt.plot(history_EfficientNetB0.history['val_loss'])\n",
        "plt.title('model loss')\n",
        "plt.ylabel('loss')\n",
        "plt.xlabel('epoch')\n",
        "plt.legend(['train', 'test'], loc='upper left')\n",
        "plt.show()"
      ],
      "metadata": {
        "id": "NX9F3TjlNZTK",
        "colab": {
          "base_uri": "https://localhost:8080/",
          "height": 295
        },
        "outputId": "1236af44-7e46-42c7-bef7-3842b9b6ff8d"
      },
      "execution_count": 21,
      "outputs": [
        {
          "output_type": "display_data",
          "data": {
            "image/png": "[encoded data removed]",
            "text/plain": [
              "<Figure size 432x288 with 1 Axes>"
            ]
          },
          "metadata": {
            "needs_background": "light"
          }
        }
      ]
    },
    {
      "cell_type": "markdown",
      "source": [
        "#Mostafa Kafafy"
      ],
      "metadata": {
        "id": "R-RoAcuTC2D7"
      }
    },
    {
      "cell_type": "code",
      "source": [
        "Xception_model=Sequential()\n",
        "\n",
        "Xception_pretrained_model=tf.keras.applications.Xception(\n",
        "    include_top=False,\n",
        "    weights=\"imagenet\",\n",
        "    input_tensor=None,\n",
        "    input_shape=(520,704,3),\n",
        "    pooling=\"max\",\n",
        "    classes=3,\n",
        "    classifier_activation=\"softmax\",\n",
        ")\n",
        "for layer in Xception_pretrained_model.layers:\n",
        "        layer.trainable=False\n",
        "\n",
        "Xception_model.add(Xception_pretrained_model)\n",
        "Xception_model.add(Flatten())\n",
        "Xception_model.add(Dense(150, activation='relu'))\n",
        "Xception_model.add(layers.Dropout(rate=0.2)),\n",
        "Xception_model.add(Dense(3, activation='softmax'))   \n",
        "Xception_model.summary() "
      ],
      "metadata": {
        "colab": {
          "base_uri": "https://localhost:8080/"
        },
        "id": "-rpbLrwfzDya",
        "outputId": "057d5d9b-0dce-4b50-e8e2-20e5d0a6d511"
      },
      "execution_count": 22,
      "outputs": [
        {
          "output_type": "stream",
          "name": "stdout",
          "text": [
            "Downloading data from https://storage.googleapis.com/tensorflow/keras-applications/xception/xception_weights_tf_dim_ordering_tf_kernels_notop.h5\n",
            "83689472/83683744 [==============================] - 1s 0us/step\n",
            "83697664/83683744 [==============================] - 1s 0us/step\n",
            "Model: \"sequential_2\"\n",
            "_________________________________________________________________\n",
            " Layer (type)                Output Shape              Param #   \n",
            "=================================================================\n",
            " xception (Functional)       (None, 2048)              20861480  \n",
            "                                                                 \n",
            " flatten_2 (Flatten)         (None, 2048)              0         \n",
            "                                                                 \n",
            " dense_5 (Dense)             (None, 150)               307350    \n",
            "                                                                 \n",
            " dropout_2 (Dropout)         (None, 150)               0         \n",
            "                                                                 \n",
            " dense_6 (Dense)             (None, 3)                 453       \n",
            "                                                                 \n",
            "=================================================================\n",
            "Total params: 21,169,283\n",
            "Trainable params: 307,803\n",
            "Non-trainable params: 20,861,480\n",
            "_________________________________________________________________\n"
          ]
        }
      ]
    },
    {
      "cell_type": "code",
      "source": [
        "callback = tf.keras.callbacks.EarlyStopping(monitor='accuracy', patience=2)\n",
        "Xception_model.compile(optimizer=Adam(lr=0.001),loss=\"sparse_categorical_crossentropy\",metrics=['accuracy'])\n",
        "history_Xception = Xception_model.fit(train_ds, validation_data=val_ds, epochs=10,callbacks=[callback])"
      ],
      "metadata": {
        "colab": {
          "base_uri": "https://localhost:8080/"
        },
        "id": "OnXn62JO3P0h",
        "outputId": "726d1a65-3aa5-471f-a681-2a95f0bff636"
      },
      "execution_count": 23,
      "outputs": [
        {
          "output_type": "stream",
          "name": "stderr",
          "text": [
            "/usr/local/lib/python3.7/dist-packages/keras/optimizer_v2/adam.py:105: UserWarning: The `lr` argument is deprecated, use `learning_rate` instead.\n",
            "  super(Adam, self).__init__(name, **kwargs)\n"
          ]
        },
        {
          "output_type": "stream",
          "name": "stdout",
          "text": [
            "Epoch 1/10\n",
            "14/14 [==============================] - 752s 52s/step - loss: 58.3769 - accuracy: 0.5195 - val_loss: 8.5292 - val_accuracy: 0.8257\n",
            "Epoch 2/10\n",
            "14/14 [==============================] - 748s 54s/step - loss: 12.2398 - accuracy: 0.7941 - val_loss: 5.3374 - val_accuracy: 0.8807\n",
            "Epoch 3/10\n",
            "14/14 [==============================] - 659s 47s/step - loss: 5.3853 - accuracy: 0.8924 - val_loss: 3.4848 - val_accuracy: 0.8899\n",
            "Epoch 4/10\n",
            "14/14 [==============================] - 656s 47s/step - loss: 5.4158 - accuracy: 0.8581 - val_loss: 3.4913 - val_accuracy: 0.8807\n",
            "Epoch 5/10\n",
            "14/14 [==============================] - 661s 48s/step - loss: 3.4665 - accuracy: 0.8627 - val_loss: 2.9801 - val_accuracy: 0.8807\n"
          ]
        }
      ]
    },
    {
      "cell_type": "code",
      "source": [
        "result_Xception=Xception_model.predict(images_list)\n",
        "y_pred_Xception = np.argmax(result_Xception, axis=1)\n",
        "target_names=[\"astro\",\"cort\",\"shsy5y\"]\n",
        "print(classification_report(y_pred_Xception, label_list, target_names=target_names))"
      ],
      "metadata": {
        "colab": {
          "base_uri": "https://localhost:8080/"
        },
        "id": "0Biq9umz5P0X",
        "outputId": "08cf3b78-2436-4430-837f-d51eb0434fcd"
      },
      "execution_count": 24,
      "outputs": [
        {
          "output_type": "stream",
          "name": "stdout",
          "text": [
            "              precision    recall  f1-score   support\n",
            "\n",
            "       astro       0.90      0.90      0.90        20\n",
            "        cort       1.00      0.83      0.91        24\n",
            "      shsy5y       0.70      0.88      0.78        16\n",
            "\n",
            "    accuracy                           0.87        60\n",
            "   macro avg       0.87      0.87      0.86        60\n",
            "weighted avg       0.89      0.87      0.87        60\n",
            "\n"
          ]
        }
      ]
    },
    {
      "cell_type": "code",
      "source": [
        "fig1 = plt.gcf()\n",
        "plt.plot(history_Xception.history['accuracy'])\n",
        "plt.plot(history_Xception.history['val_accuracy'])\n",
        "plt.axis(ymin=0.4,ymax=1)\n",
        "plt.grid()\n",
        "plt.title('Model Accuracy')\n",
        "plt.ylabel('Accuracy')\n",
        "plt.xlabel('Epochs')\n",
        "plt.legend(['train', 'validation'])\n",
        "plt.show()"
      ],
      "metadata": {
        "colab": {
          "base_uri": "https://localhost:8080/",
          "height": 295
        },
        "id": "n1FtXqrM6_iY",
        "outputId": "0ab1f88c-0d9b-47df-cf9e-3e13c154f355"
      },
      "execution_count": 25,
      "outputs": [
        {
          "output_type": "display_data",
          "data": {
            "image/png": "[encoded data removed]",
            "text/plain": [
              "<Figure size 432x288 with 1 Axes>"
            ]
          },
          "metadata": {
            "needs_background": "light"
          }
        }
      ]
    },
    {
      "cell_type": "code",
      "source": [
        "# summarize history for loss\n",
        "plt.plot(history_Xception.history['loss'])\n",
        "plt.plot(history_Xception.history['val_loss'])\n",
        "plt.title('model loss')\n",
        "plt.ylabel('loss')\n",
        "plt.xlabel('epoch')\n",
        "plt.legend(['train', 'test'], loc='upper left')\n",
        "plt.show()"
      ],
      "metadata": {
        "colab": {
          "base_uri": "https://localhost:8080/",
          "height": 295
        },
        "id": "OdTvq_SMBJLV",
        "outputId": "0e75db2d-3810-4f6e-c70d-d7d8163c831e"
      },
      "execution_count": 26,
      "outputs": [
        {
          "output_type": "display_data",
          "data": {
            "image/png": "[encoded data removed]",
            "text/plain": [
              "<Figure size 432x288 with 1 Axes>"
            ]
          },
          "metadata": {
            "needs_background": "light"
          }
        }
      ]
    },
    {
      "cell_type": "markdown",
      "source": [
        "#Mohamed Ehab"
      ],
      "metadata": {
        "id": "aMdsv1OVC6iG"
      }
    },
    {
      "cell_type": "code",
      "source": [
        "InceptionV3_model=Sequential()\n",
        "InceptionV3__pretrained_model=tf.keras.applications.InceptionV3(\n",
        "    include_top=False,\n",
        "    weights=\"imagenet\",\n",
        "    input_tensor=None,\n",
        "    input_shape=(520,704,3),\n",
        "    pooling=\"max\",\n",
        "    classes=3,\n",
        "    classifier_activation=\"softmax\",\n",
        ")\n",
        "for layer in InceptionV3__pretrained_model.layers:\n",
        "        layer.trainable=False\n",
        "\n",
        "InceptionV3_model.add(InceptionV3__pretrained_model)\n",
        "InceptionV3_model.add(Flatten())\n",
        "InceptionV3_model.add(Dense(350, activation='relu'))\n",
        "InceptionV3_model.add(layers.Dropout(rate=0.3))\n",
        "InceptionV3_model.add(Dense(3, activation='softmax'))   \n",
        "InceptionV3_model.summary() "
      ],
      "metadata": {
        "colab": {
          "base_uri": "https://localhost:8080/"
        },
        "id": "BjFVWQvPC02p",
        "outputId": "6e8eba5a-06a1-431e-e02e-e3bbebcc80b0"
      },
      "execution_count": 27,
      "outputs": [
        {
          "output_type": "stream",
          "name": "stdout",
          "text": [
            "Downloading data from https://storage.googleapis.com/tensorflow/keras-applications/inception_v3/inception_v3_weights_tf_dim_ordering_tf_kernels_notop.h5\n",
            "87916544/87910968 [==============================] - 2s 0us/step\n",
            "87924736/87910968 [==============================] - 2s 0us/step\n",
            "Model: \"sequential_3\"\n",
            "_________________________________________________________________\n",
            " Layer (type)                Output Shape              Param #   \n",
            "=================================================================\n",
            " inception_v3 (Functional)   (None, 2048)              21802784  \n",
            "                                                                 \n",
            " flatten_3 (Flatten)         (None, 2048)              0         \n",
            "                                                                 \n",
            " dense_7 (Dense)             (None, 350)               717150    \n",
            "                                                                 \n",
            " dropout_3 (Dropout)         (None, 350)               0         \n",
            "                                                                 \n",
            " dense_8 (Dense)             (None, 3)                 1053      \n",
            "                                                                 \n",
            "=================================================================\n",
            "Total params: 22,520,987\n",
            "Trainable params: 718,203\n",
            "Non-trainable params: 21,802,784\n",
            "_________________________________________________________________\n"
          ]
        }
      ]
    },
    {
      "cell_type": "code",
      "source": [
        "callback = tf.keras.callbacks.EarlyStopping(monitor='accuracy', patience=2)\n",
        "InceptionV3_model.compile(optimizer=Adam(lr=0.001),loss=\"sparse_categorical_crossentropy\",metrics=['accuracy'])\n",
        "history_InceptionV3 = InceptionV3_model.fit(train_ds, validation_data=val_ds, epochs=10,callbacks=[callback])"
      ],
      "metadata": {
        "colab": {
          "base_uri": "https://localhost:8080/"
        },
        "id": "OQT4HKXsE5aB",
        "outputId": "610d44ff-0e18-4784-d063-ef84b15c1fd9"
      },
      "execution_count": 28,
      "outputs": [
        {
          "output_type": "stream",
          "name": "stdout",
          "text": [
            "Epoch 1/10\n"
          ]
        },
        {
          "output_type": "stream",
          "name": "stderr",
          "text": [
            "/usr/local/lib/python3.7/dist-packages/keras/optimizer_v2/adam.py:105: UserWarning: The `lr` argument is deprecated, use `learning_rate` instead.\n",
            "  super(Adam, self).__init__(name, **kwargs)\n"
          ]
        },
        {
          "output_type": "stream",
          "name": "stdout",
          "text": [
            "14/14 [==============================] - 455s 32s/step - loss: 42.2620 - accuracy: 0.5149 - val_loss: 21.3009 - val_accuracy: 0.7798\n",
            "Epoch 2/10\n",
            "14/14 [==============================] - 435s 31s/step - loss: 25.8741 - accuracy: 0.6819 - val_loss: 11.6764 - val_accuracy: 0.6514\n",
            "Epoch 3/10\n",
            "14/14 [==============================] - 440s 32s/step - loss: 18.3247 - accuracy: 0.6705 - val_loss: 6.1247 - val_accuracy: 0.7156\n",
            "Epoch 4/10\n",
            "14/14 [==============================] - 435s 31s/step - loss: 6.8977 - accuracy: 0.7254 - val_loss: 4.1507 - val_accuracy: 0.7339\n",
            "Epoch 5/10\n",
            "14/14 [==============================] - 439s 32s/step - loss: 3.9900 - accuracy: 0.7437 - val_loss: 1.6407 - val_accuracy: 0.8073\n",
            "Epoch 6/10\n",
            "14/14 [==============================] - 436s 31s/step - loss: 1.6935 - accuracy: 0.7986 - val_loss: 1.1882 - val_accuracy: 0.7798\n",
            "Epoch 7/10\n",
            "14/14 [==============================] - 434s 31s/step - loss: 1.0455 - accuracy: 0.7780 - val_loss: 0.6826 - val_accuracy: 0.8257\n",
            "Epoch 8/10\n",
            "14/14 [==============================] - 432s 31s/step - loss: 0.5203 - accuracy: 0.8009 - val_loss: 0.5414 - val_accuracy: 0.8073\n",
            "Epoch 9/10\n",
            "14/14 [==============================] - 436s 31s/step - loss: 0.4535 - accuracy: 0.8055 - val_loss: 0.5162 - val_accuracy: 0.7615\n",
            "Epoch 10/10\n",
            "14/14 [==============================] - 435s 31s/step - loss: 0.4224 - accuracy: 0.8055 - val_loss: 0.5409 - val_accuracy: 0.8073\n"
          ]
        }
      ]
    },
    {
      "cell_type": "code",
      "source": [
        "result_InceptionV3=InceptionV3_model.predict(images_list)\n",
        "y_pred_InceptionV3 = np.argmax(result_InceptionV3, axis=1)\n",
        "target_names=[\"astro\",\"cort\",\"shsy5y\"]\n",
        "print(classification_report(y_pred_InceptionV3, label_list, target_names=target_names))"
      ],
      "metadata": {
        "colab": {
          "base_uri": "https://localhost:8080/"
        },
        "id": "B7onDdIHFDy4",
        "outputId": "c8894b74-8ac5-4872-b295-30431842d841"
      },
      "execution_count": 29,
      "outputs": [
        {
          "output_type": "stream",
          "name": "stdout",
          "text": [
            "              precision    recall  f1-score   support\n",
            "\n",
            "       astro       0.95      0.86      0.90        22\n",
            "        cort       0.95      0.73      0.83        26\n",
            "      shsy5y       0.50      0.83      0.62        12\n",
            "\n",
            "    accuracy                           0.80        60\n",
            "   macro avg       0.80      0.81      0.79        60\n",
            "weighted avg       0.86      0.80      0.81        60\n",
            "\n"
          ]
        }
      ]
    },
    {
      "cell_type": "code",
      "source": [
        "fig1 = plt.gcf()\n",
        "plt.plot(history_InceptionV3.history['accuracy'])\n",
        "plt.plot(history_InceptionV3.history['val_accuracy'])\n",
        "plt.axis(ymin=0.4,ymax=1)\n",
        "plt.grid()\n",
        "plt.title('Model Accuracy')\n",
        "plt.ylabel('Accuracy')\n",
        "plt.xlabel('Epochs')\n",
        "plt.legend(['train', 'validation'])\n",
        "plt.show()"
      ],
      "metadata": {
        "colab": {
          "base_uri": "https://localhost:8080/",
          "height": 295
        },
        "id": "TW8yoNsCGeXs",
        "outputId": "1ee1e402-64bc-4792-a5a1-5cc3edefd150"
      },
      "execution_count": 30,
      "outputs": [
        {
          "output_type": "display_data",
          "data": {
            "image/png": "[encoded data removed]",
            "text/plain": [
              "<Figure size 432x288 with 1 Axes>"
            ]
          },
          "metadata": {
            "needs_background": "light"
          }
        }
      ]
    },
    {
      "cell_type": "code",
      "source": [
        "# summarize history for loss\n",
        "plt.plot(history_InceptionV3.history['loss'])\n",
        "plt.plot(history_InceptionV3.history['val_loss'])\n",
        "plt.title('model loss')\n",
        "plt.ylabel('loss')\n",
        "plt.xlabel('epoch')\n",
        "plt.legend(['train', 'test'], loc='upper left')\n",
        "plt.show()"
      ],
      "metadata": {
        "colab": {
          "base_uri": "https://localhost:8080/",
          "height": 295
        },
        "id": "S9C9s-e8GoTR",
        "outputId": "702cc634-fb6d-40dd-fbd2-e8766ff333f9"
      },
      "execution_count": 31,
      "outputs": [
        {
          "output_type": "display_data",
          "data": {
            "image/png": "[encoded data removed]",
            "text/plain": [
              "<Figure size 432x288 with 1 Axes>"
            ]
          },
          "metadata": {
            "needs_background": "light"
          }
        }
      ]
    }
  ]
}